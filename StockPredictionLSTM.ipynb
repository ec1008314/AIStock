{
 "cells": [
  {
   "cell_type": "code",
   "execution_count": 230,
   "metadata": {
    "collapsed": true
   },
   "outputs": [],
   "source": [
    "import numpy as np\n",
    "import matplotlib.pyplot as plt\n",
    "import pandas as pd\n",
    "import os \n",
    "from sklearn.preprocessing import MinMaxScaler\n",
    "# Build model\n",
    "from keras.models import Sequential\n",
    "from keras.layers.core import Dense, Dropout, Activation\n",
    "from keras.layers.recurrent import LSTM\n",
    "import keras\n",
    "from sklearn.metrics import confusion_matrix\n",
    "np.set_printoptions(precision=3, suppress=True)"
   ]
  },
  {
   "cell_type": "code",
   "execution_count": 231,
   "metadata": {
    "collapsed": true
   },
   "outputs": [],
   "source": [
    "PER_STOCK_DATA_FOLDER_NAME = 'per_stock_data'\n",
    "STOCK_FILE_NAME = \"{STOCK_ID}.csv\"\n",
    "REQUIRED_COLS_FOR_TRAINING = ['成交股數','開盤價', '最高價', '最低價', '收盤價']"
   ]
  },
  {
   "cell_type": "code",
   "execution_count": 232,
   "metadata": {
    "collapsed": true
   },
   "outputs": [],
   "source": [
    "def read_csv(stock_id):\n",
    "    file_name = STOCK_FILE_NAME.format(STOCK_ID=stock_id)\n",
    "    file_path = os.path.join(PER_STOCK_DATA_FOLDER_NAME, file_name)\n",
    "    with open(file_path) as f:\n",
    "        df = pd.read_csv(f)\n",
    "        return df"
   ]
  },
  {
   "cell_type": "code",
   "execution_count": 233,
   "metadata": {
    "collapsed": true
   },
   "outputs": [],
   "source": [
    "def data_clean(data_df, required_cols):\n",
    "    # Select data dimension\n",
    "    data_df_selected = data_df[required_cols].copy(deep=True)\n",
    "    # Transform data type to numerica. Non-transformable value will be filled with nan\n",
    "    data_df_selected_numeric = data_df_selected.apply(pd.to_numeric, errors='coerce')\n",
    "    # Drop row contains nan\n",
    "    data_df_selected_numeric = data_df_selected_numeric.dropna(how='any')\n",
    "    # 股數轉張數\n",
    "    data_df_selected_numeric.loc[:, '成交股數'] = (data_df_selected_numeric['成交股數']/1000).round(0)\n",
    "    return data_df_selected_numeric\n"
   ]
  },
  {
   "cell_type": "code",
   "execution_count": 234,
   "metadata": {},
   "outputs": [],
   "source": [
    "# 命題為預測 n days 區間資料，兩週後的 漲/跌\n",
    "# 取 sliding window 必須包含 (n + 10) days, n days for traing, 10 days for label\n",
    "# Return value will be a 2-dimesional ndarray\n",
    "# n days 利用 hstack 接成一個 ndarray\n",
    "# scaling 對每一個window 進行，避免失真 (?)\n",
    "def sliding_window(data_array, train_duration, label_duration, step_size, scaler):\n",
    "    result = []\n",
    "    window_size = train_duration + label_duration\n",
    "    for i in range(0, len(data_array) - window_size + 1, step_size):\n",
    "        window = data_array[i: i + window_size, :]\n",
    "        # window data scaling\n",
    "        data_df_scaled = scaler.fit_transform(window)\n",
    "        hstack_window = np.hstack(data_df_scaled)\n",
    "        result.append(hstack_window)\n",
    "    \n",
    "    return np.array(result)"
   ]
  },
  {
   "cell_type": "code",
   "execution_count": 235,
   "metadata": {
    "collapsed": true
   },
   "outputs": [],
   "source": [
    "# 取月資料 (train_duration = 20 days), 兩週 (label_duration = 10 days, 90%資料為 training_set (split_percent = 0.9)\n",
    "def split_train_test(data_df, train_duration, label_duration, data_dimension, split_percent, step_size, scaler):\n",
    "    data_array = sliding_window(stock_df.as_matrix(), train_duration, label_duration, step_size, scaler)\n",
    "    input_set = []\n",
    "    output_set = []\n",
    "    window_size = train_duration + label_duration\n",
    "    for i in range(data_array.shape[0]):\n",
    "        array_reshape = data_array[[i]].reshape(window_size, data_dimension)\n",
    "        \n",
    "        input_set.append(array_reshape[0:train_duration])\n",
    "        previous_close_price = array_reshape[train_duration-1][4]\n",
    "        latest_close_price = array_reshape[-1][4]\n",
    "        price_up_down = 1 if (latest_close_price - previous_close_price) > 0 else 0;\n",
    "        output_set.append(price_up_down)\n",
    "    \n",
    "    total_len = data_array.shape[0];\n",
    "    number_train = round(0.9 * total_len)\n",
    "    X_train = np.array(input_set)[0:number_train, :, :]\n",
    "    y_train = np.array(output_set)[0:number_train]\n",
    "    \n",
    "    X_test = np.array(input_set)[number_train:, :, :]\n",
    "    y_test = np.array(output_set)[number_train:]\n",
    "    \n",
    "    return [X_train, y_train, X_test, y_test]"
   ]
  },
  {
   "cell_type": "code",
   "execution_count": 228,
   "metadata": {},
   "outputs": [],
   "source": [
    "# Build model\n",
    "def build_model(input_length, input_dim):\n",
    "    d = 0.3\n",
    "    model = Sequential()\n",
    "    model.add(LSTM(\n",
    "        256,\n",
    "        input_shape=(input_length, input_dim),\n",
    "        return_sequences=True))\n",
    "    model.add(Dropout(d))\n",
    "    \n",
    "    model.add(LSTM(\n",
    "            256,\n",
    "            return_sequences=False))\n",
    "    model.add(Dropout(0.2))\n",
    "    #model.add(Dense(16,kernel_initializer=\"uniform\",activation='relu'))\n",
    "    model.add(Dense(1,kernel_initializer=\"uniform\",activation='sigmoid'))\n",
    "    model.compile(loss='mse',optimizer='adam', metrics=['accuracy'])\n",
    "    return model"
   ]
  },
  {
   "cell_type": "code",
   "execution_count": 236,
   "metadata": {},
   "outputs": [
    {
     "ename": "FileNotFoundError",
     "evalue": "[Errno 2] No such file or directory: 'per_stock_data/1419.csv'",
     "output_type": "error",
     "traceback": [
      "\u001b[0;31m---------------------------------------------------------------------------\u001b[0m",
      "\u001b[0;31mFileNotFoundError\u001b[0m                         Traceback (most recent call last)",
      "\u001b[0;32m<ipython-input-236-050773979302>\u001b[0m in \u001b[0;36m<module>\u001b[0;34m()\u001b[0m\n\u001b[0;32m----> 1\u001b[0;31m \u001b[0mstock_df_orig\u001b[0m \u001b[0;34m=\u001b[0m \u001b[0mread_csv\u001b[0m\u001b[0;34m(\u001b[0m\u001b[0;34m'1419'\u001b[0m\u001b[0;34m)\u001b[0m\u001b[0;34m\u001b[0m\u001b[0m\n\u001b[0m\u001b[1;32m      2\u001b[0m \u001b[0mstock_df\u001b[0m \u001b[0;34m=\u001b[0m \u001b[0mdata_clean\u001b[0m\u001b[0;34m(\u001b[0m\u001b[0mstock_df_orig\u001b[0m\u001b[0;34m,\u001b[0m \u001b[0mREQUIRED_COLS_FOR_TRAINING\u001b[0m\u001b[0;34m)\u001b[0m\u001b[0;34m\u001b[0m\u001b[0m\n\u001b[1;32m      3\u001b[0m \u001b[0;34m\u001b[0m\u001b[0m\n\u001b[1;32m      4\u001b[0m X_train, y_train, X_test, y_test = split_train_test(\n\u001b[1;32m      5\u001b[0m     \u001b[0mdata_df\u001b[0m \u001b[0;34m=\u001b[0m \u001b[0mstock_df\u001b[0m\u001b[0;34m,\u001b[0m\u001b[0;34m\u001b[0m\u001b[0m\n",
      "\u001b[0;32m<ipython-input-232-3a626e4af9cf>\u001b[0m in \u001b[0;36mread_csv\u001b[0;34m(stock_id)\u001b[0m\n\u001b[1;32m      2\u001b[0m     \u001b[0mfile_name\u001b[0m \u001b[0;34m=\u001b[0m \u001b[0mSTOCK_FILE_NAME\u001b[0m\u001b[0;34m.\u001b[0m\u001b[0mformat\u001b[0m\u001b[0;34m(\u001b[0m\u001b[0mSTOCK_ID\u001b[0m\u001b[0;34m=\u001b[0m\u001b[0mstock_id\u001b[0m\u001b[0;34m)\u001b[0m\u001b[0;34m\u001b[0m\u001b[0m\n\u001b[1;32m      3\u001b[0m     \u001b[0mfile_path\u001b[0m \u001b[0;34m=\u001b[0m \u001b[0mos\u001b[0m\u001b[0;34m.\u001b[0m\u001b[0mpath\u001b[0m\u001b[0;34m.\u001b[0m\u001b[0mjoin\u001b[0m\u001b[0;34m(\u001b[0m\u001b[0mPER_STOCK_DATA_FOLDER_NAME\u001b[0m\u001b[0;34m,\u001b[0m \u001b[0mfile_name\u001b[0m\u001b[0;34m)\u001b[0m\u001b[0;34m\u001b[0m\u001b[0m\n\u001b[0;32m----> 4\u001b[0;31m     \u001b[0;32mwith\u001b[0m \u001b[0mopen\u001b[0m\u001b[0;34m(\u001b[0m\u001b[0mfile_path\u001b[0m\u001b[0;34m)\u001b[0m \u001b[0;32mas\u001b[0m \u001b[0mf\u001b[0m\u001b[0;34m:\u001b[0m\u001b[0;34m\u001b[0m\u001b[0m\n\u001b[0m\u001b[1;32m      5\u001b[0m         \u001b[0mdf\u001b[0m \u001b[0;34m=\u001b[0m \u001b[0mpd\u001b[0m\u001b[0;34m.\u001b[0m\u001b[0mread_csv\u001b[0m\u001b[0;34m(\u001b[0m\u001b[0mf\u001b[0m\u001b[0;34m)\u001b[0m\u001b[0;34m\u001b[0m\u001b[0m\n\u001b[1;32m      6\u001b[0m         \u001b[0;32mreturn\u001b[0m \u001b[0mdf\u001b[0m\u001b[0;34m\u001b[0m\u001b[0m\n",
      "\u001b[0;31mFileNotFoundError\u001b[0m: [Errno 2] No such file or directory: 'per_stock_data/1419.csv'"
     ]
    }
   ],
   "source": [
    "stock_df_orig = read_csv('1419')\n",
    "stock_df = data_clean(stock_df_orig, REQUIRED_COLS_FOR_TRAINING)\n",
    "\n",
    "X_train, y_train, X_test, y_test = split_train_test(\n",
    "    data_df = stock_df, \n",
    "    train_duration = 20, \n",
    "    label_duration = 10, \n",
    "    data_dimension = len(REQUIRED_COLS_FOR_TRAINING), \n",
    "    split_percent = 0.9,\n",
    "    step_size = 1,\n",
    "    scaler = MinMaxScaler)\n",
    "\n",
    "model = build_model(20,5)\n",
    "model.fit( X_train, y_train, batch_size=128, epochs=50, validation_split=0.1, verbose=1)\n",
    "y_pred = model.predict(X_test)\n",
    "y_pred = (y_pred > 0.5)\n",
    "cm = confusion_matrix(y_test, y_pred)"
   ]
  },
  {
   "cell_type": "code",
   "execution_count": 189,
   "metadata": {},
   "outputs": [
    {
     "data": {
      "text/plain": [
       "(2718, 20, 5)"
      ]
     },
     "execution_count": 189,
     "metadata": {},
     "output_type": "execute_result"
    }
   ],
   "source": [
    "X_train.shape"
   ]
  },
  {
   "cell_type": "code",
   "execution_count": 190,
   "metadata": {},
   "outputs": [
    {
     "data": {
      "text/plain": [
       "(302, 20, 5)"
      ]
     },
     "execution_count": 190,
     "metadata": {},
     "output_type": "execute_result"
    }
   ],
   "source": [
    "X_test.shape"
   ]
  },
  {
   "cell_type": "code",
   "execution_count": null,
   "metadata": {
    "collapsed": true
   },
   "outputs": [],
   "source": []
  }
 ],
 "metadata": {
  "kernelspec": {
   "display_name": "Python 3",
   "language": "python",
   "name": "python3"
  },
  "language_info": {
   "codemirror_mode": {
    "name": "ipython",
    "version": 3
   },
   "file_extension": ".py",
   "mimetype": "text/x-python",
   "name": "python",
   "nbconvert_exporter": "python",
   "pygments_lexer": "ipython3",
   "version": "3.6.1"
  }
 },
 "nbformat": 4,
 "nbformat_minor": 2
}
